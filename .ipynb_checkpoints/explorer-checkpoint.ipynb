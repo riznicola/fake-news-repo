{
 "cells": [
  {
   "cell_type": "code",
   "execution_count": 1,
   "metadata": {},
   "outputs": [],
   "source": [
    "import facebook"
   ]
  },
  {
   "cell_type": "code",
   "execution_count": null,
   "metadata": {},
   "outputs": [],
   "source": [
    "token = \"EAAprwQbDadsBAKJOYrXXdW2NWbIZCpoiMZCkjXel37TA3uZCT187HZAjLy0RgL1DAVYGSTsTTddMEhz3DidqPZBWHnxKEljT9hG5fBoxG3wrA0RzURmNLLzzqNSVmZAhDfhQ0U5pj0Nr0IA9NOL3rIj51bcvfKp2QdZCrlYoYMIaOZC92Pym3Tjef31IZAG6NpH8Ny9CP674cAfw1yk95qZCyfn8dOnAYOEacgapO1MelQulTDqV0lFRtK\""
   ]
  },
  {
   "cell_type": "code",
   "execution_count": null,
   "metadata": {},
   "outputs": [],
   "source": [
    "graph = facebook.GraphAPI(access_token=\"\", version=\"6.0\")"
   ]
  }
 ],
 "metadata": {
  "kernelspec": {
   "display_name": "Python 3",
   "language": "python",
   "name": "python3"
  },
  "language_info": {
   "codemirror_mode": {
    "name": "ipython",
    "version": 3
   },
   "file_extension": ".py",
   "mimetype": "text/x-python",
   "name": "python",
   "nbconvert_exporter": "python",
   "pygments_lexer": "ipython3",
   "version": "3.7.4"
  }
 },
 "nbformat": 4,
 "nbformat_minor": 4
}
